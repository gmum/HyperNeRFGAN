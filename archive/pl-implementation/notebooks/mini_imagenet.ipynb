{
 "cells": [
  {
   "cell_type": "code",
   "execution_count": 5,
   "metadata": {},
   "outputs": [
    {
     "name": "stderr",
     "output_type": "stream",
     "text": [
      "100%|██████████| 100/100 [00:10<00:00,  9.96it/s]\n"
     ]
    }
   ],
   "source": [
    "import os\n",
    "from distutils.dir_util import copy_tree\n",
    "from tqdm import tqdm\n",
    "\n",
    "mini_imagenet_categories = [\n",
    "    'n01532829', 'n01558993', 'n01704323', 'n01749939', 'n01770081', 'n01843383', 'n01910747', 'n02074367', 'n02089867', 'n02091831',\n",
    "    'n02101006', 'n02105505', 'n02108089', 'n02108551', 'n02108915', 'n02111277', 'n02113712', 'n02120079', 'n02165456', 'n02457408',\n",
    "    'n02606052', 'n02687172', 'n02747177', 'n02795169', 'n02823428', 'n02966193', 'n03017168', 'n03047690', 'n03062245', 'n03207743',\n",
    "    'n03220513', 'n03337140', 'n03347037', 'n03400231', 'n03476684', 'n03527444', 'n03676483', 'n03838899', 'n03854065', 'n03888605',\n",
    "    'n03908618', 'n03924679', 'n03998194', 'n04067472', 'n04243546', 'n04251144', 'n04258138', 'n04275548', 'n04296562', 'n04389033',\n",
    "    'n04435653', 'n04443257', 'n04509417', 'n04515003', 'n04596742', 'n04604644', 'n04612504', 'n06794110', 'n07584110', 'n07697537',\n",
    "    'n07747607', 'n09246464', 'n13054560', 'n13133613', 'n01855672', 'n02091244', 'n02114548', 'n02138441', 'n02174001', 'n02950826',\n",
    "    'n02971356', 'n02981792', 'n03075370', 'n03417042', 'n03535780', 'n03584254', 'n03770439', 'n03773504', 'n03980874', 'n09256479',\n",
    "    'n01930112', 'n01981276', 'n02099601', 'n02110063', 'n02110341', 'n02116738', 'n02129165', 'n02219486', 'n02443484', 'n02871525',\n",
    "    'n03127925', 'n03146219', 'n03272010', 'n03544143', 'n03775546', 'n04146614', 'n04149813', 'n04418357', 'n04522168', 'n07613480',\n",
    "]\n",
    "\n",
    "target_dir = '/tmp/skoroki/data/imagenet/mini-imagenet-128'\n",
    "source_dir = '/tmp/skoroki/data/imagenet/imagenet-128'\n",
    "\n",
    "for category in tqdm(mini_imagenet_categories):\n",
    "    category_source_dir = os.path.join(source_dir, category)\n",
    "    category_target_dir = os.path.join(target_dir, category)\n",
    "    copy_tree(category_source_dir, category_target_dir)"
   ]
  }
 ],
 "metadata": {
  "kernelspec": {
   "display_name": "Python 3",
   "language": "python",
   "name": "python3"
  },
  "language_info": {
   "codemirror_mode": {
    "name": "ipython",
    "version": 3
   },
   "file_extension": ".py",
   "mimetype": "text/x-python",
   "name": "python",
   "nbconvert_exporter": "python",
   "pygments_lexer": "ipython3",
   "version": "3.7.3"
  }
 },
 "nbformat": 4,
 "nbformat_minor": 4
}
