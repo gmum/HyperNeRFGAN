{
 "cells": [
  {
   "cell_type": "code",
   "execution_count": 1,
   "metadata": {},
   "outputs": [],
   "source": [
    "from time import time\n",
    "import sys; sys.path.append('..')\n",
    "import dinr.modeling\n",
    "import torch\n",
    "from hydra.experimental import compose, initialize\n",
    "from omegaconf import OmegaConf\n",
    "from configs import trainer_conf\n",
    "from collections import OrderedDict\n",
    "\n",
    "initialize(config_path=\"../configs\", job_name=\"test_app\")\n",
    "\n",
    "import numpy as np\n",
    "import torch\n",
    "import torch.nn as nn\n",
    "import torch.autograd.profiler as profiler\n",
    "\n",
    "from dinr.modeling.modules.inr_generator import INRGenerator\n",
    "from dinr.modeling.modules.noise import mixing_noise\n",
    "\n",
    "device = 'cuda'"
   ]
  },
  {
   "cell_type": "code",
   "execution_count": 5,
   "metadata": {},
   "outputs": [
    {
     "data": {
      "text/plain": [
       "0.23658183217048645"
      ]
     },
     "execution_count": 5,
     "metadata": {},
     "output_type": "execute_result"
    }
   ],
   "source": [
    "cfg = compose(config_name=\"config\", overrides=['model=stylegan2_inrgan', 'system=stylegan2_noppl_nomix_inr'])\n",
    "kwargs = dict(cfg.model.generator)\n",
    "kwargs.pop('_target_')\n",
    "# kwargs = {**kwargs, **{'no_fourier_embs': True}}\n",
    "kwargs = {**kwargs, **{'interpolation_type': 'nearest'}}\n",
    "kwargs = {**kwargs, **{\n",
    "    'use_noise_injection': False\n",
    "}}\n",
    "# kwargs = {**kwargs, **{'interpolation_type': 'bilinear'}}\n",
    "kwargs_sg2 = {**kwargs, **{'fallback': True, 'is_multiscale': False}}\n",
    "\n",
    "batch_size = 64\n",
    "# batch_size = 150\n",
    "num_runs = 20\n",
    "\n",
    "times = {\n",
    "    'sg2': [],\n",
    "    #'ms_conv': [],\n",
    "    'inr_gan': []\n",
    "}\n",
    "\n",
    "model_name = 'inr_gan'\n",
    "# model_name = 'sg2'\n",
    "\n",
    "with torch.no_grad():\n",
    "    z = mixing_noise(batch_size, 512, 0.0, device)\n",
    "    \n",
    "    if model_name == 'inr_gan':\n",
    "        gen = INRGenerator(**kwargs).to(device)\n",
    "    else:\n",
    "        gen = INRGenerator(**kwargs_sg2).to(device)\n",
    "    \n",
    "    with profiler.profile(record_shapes=True, use_cuda=True) as prof:\n",
    "        for i in range(num_runs):\n",
    "            torch.cuda.synchronize()\n",
    "            start = time()\n",
    "            \n",
    "            with profiler.record_function(\"forward\"):\n",
    "                fake_img = gen(z, return_latents=False)[0].contiguous()\n",
    "            torch.cuda.synchronize()\n",
    "            \n",
    "            if i > 3:\n",
    "                times[model_name].append(time() - start)\n",
    "\n",
    "np.mean(times[model_name])"
   ]
  },
  {
   "cell_type": "code",
   "execution_count": 6,
   "metadata": {},
   "outputs": [
    {
     "data": {
      "text/plain": [
       "270.51950444732415"
      ]
     },
     "execution_count": 6,
     "metadata": {},
     "output_type": "execute_result"
    }
   ],
   "source": [
    "len(times[model_name]) * batch_size / np.sum(times[model_name])"
   ]
  },
  {
   "cell_type": "code",
   "execution_count": 4,
   "metadata": {},
   "outputs": [
    {
     "data": {
      "text/plain": [
       "268.7019915817746"
      ]
     },
     "execution_count": 4,
     "metadata": {},
     "output_type": "execute_result"
    }
   ],
   "source": [
    "len(times[model_name]) * batch_size / np.sum(times[model_name])"
   ]
  },
  {
   "cell_type": "code",
   "execution_count": 8,
   "metadata": {},
   "outputs": [
    {
     "data": {
      "text/plain": [
       "'593.91 vs 391.13'"
      ]
     },
     "execution_count": 8,
     "metadata": {},
     "output_type": "execute_result"
    }
   ],
   "source": [
    "# f\"{np.mean(times['stylegan2']) * 1000:0.2f} vs {np.mean(times['ms_conv']) * 1000:0.2f} vs {np.mean(times['ms_fmm']) * 1000:0.2f}\"\n",
    "f\"{np.mean(times['stylegan2']) * 1000:0.2f} vs {np.mean(times['ms_conv']) * 1000:0.2f}\""
   ]
  },
  {
   "cell_type": "code",
   "execution_count": 3,
   "metadata": {},
   "outputs": [
    {
     "data": {
      "text/plain": [
       "'694.40 vs 500.05'"
      ]
     },
     "execution_count": 3,
     "metadata": {},
     "output_type": "execute_result"
    }
   ],
   "source": [
    "# f\"{np.mean(times['stylegan2']) * 1000:0.2f} vs {np.mean(times['ms_conv']) * 1000:0.2f} vs {np.mean(times['ms_fmm']) * 1000:0.2f}\"\n",
    "f\"{np.mean(times['stylegan2']) * 1000:0.2f} vs {np.mean(times['ms_conv']) * 1000:0.2f}\""
   ]
  }
 ],
 "metadata": {
  "kernelspec": {
   "display_name": "Python 3",
   "language": "python",
   "name": "python3"
  },
  "language_info": {
   "codemirror_mode": {
    "name": "ipython",
    "version": 3
   },
   "file_extension": ".py",
   "mimetype": "text/x-python",
   "name": "python",
   "nbconvert_exporter": "python",
   "pygments_lexer": "ipython3",
   "version": "3.7.3"
  }
 },
 "nbformat": 4,
 "nbformat_minor": 4
}
