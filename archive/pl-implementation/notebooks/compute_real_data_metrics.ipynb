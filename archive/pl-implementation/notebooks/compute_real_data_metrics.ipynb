{
 "cells": [
  {
   "cell_type": "code",
   "execution_count": 1,
   "metadata": {},
   "outputs": [],
   "source": [
    "import os; os.chdir('../')\n",
    "from time import time\n",
    "import dinr.modeling\n",
    "import torch\n",
    "from hydra.experimental import compose, initialize\n",
    "from omegaconf import OmegaConf\n",
    "from configs import trainer_conf\n",
    "from collections import OrderedDict\n",
    "\n",
    "initialize(config_path=\"../configs\", job_name=\"test_app\")\n",
    "\n",
    "import numpy as np\n",
    "import torch\n",
    "import torch.nn as nn\n",
    "import torch.autograd.profiler as profiler\n",
    "\n",
    "from dinr.modeling.modules.inr_generator import INRGenerator\n",
    "from dinr.modeling.modules.noise import mixing_noise\n",
    "\n",
    "device = 'cuda'"
   ]
  },
  {
   "cell_type": "code",
   "execution_count": 7,
   "metadata": {},
   "outputs": [],
   "source": [
    "from dinr.modeling.metrics.inception import InceptionV3Wrapper\n",
    "\n",
    "config = compose(config_name=\"config\", overrides=[\n",
    "    'model=stylegan2_inrgan',\n",
    "    'system=stylegan2_noppl_nomix_inr',\n",
    "    'dataloader.total_batch_size=128',\n",
    "    'datasets=lsun10',\n",
    "#     'datasets=mini_imagenet',\n",
    "#     'datasets.test.0.dataset_class.root=/tmp/skoroki/data/imagenet/mini-imagenet-128'\n",
    "    'datasets.test.0.dataset_class.root=/tmp/skoroki/data/lsun/lsun10'\n",
    "], return_hydra_config=True)"
   ]
  },
  {
   "cell_type": "code",
   "execution_count": 8,
   "metadata": {},
   "outputs": [],
   "source": [
    "from dinr.data.build import build_datasets, build_loaders\n",
    "from dinr.modeling.metrics.inception_score import calculate_inception_score\n",
    "from dinr.modeling.metrics.fid import calculate_activation_statistics, calculate_frechet_distance\n",
    "\n",
    "ds_train = build_datasets(config, 'train')\n",
    "loader_train = build_loaders(config, ds_train, 'train')[0]\n",
    "inception = nn.DataParallel(InceptionV3Wrapper()).to(device)\n",
    "inception.eval();"
   ]
  },
  {
   "cell_type": "code",
   "execution_count": 9,
   "metadata": {},
   "outputs": [
    {
     "name": "stderr",
     "output_type": "stream",
     "text": [
      "390it [01:52,  3.48it/s]\n"
     ]
    }
   ],
   "source": [
    "from tqdm import tqdm\n",
    "\n",
    "NUM_IMAGES = 50000\n",
    "all_logits = []\n",
    "all_feats = []\n",
    "\n",
    "with torch.no_grad():\n",
    "    for batch in tqdm(loader_train):\n",
    "        img = batch['img'].to(device)\n",
    "        img = (img + 1.0) / 2.0\n",
    "        feats, logits = inception(img)\n",
    "        all_logits.extend(logits.cpu())\n",
    "        all_feats.extend(feats.cpu())\n",
    "        \n",
    "        if len(all_logits) >= NUM_IMAGES:\n",
    "            break\n",
    "            \n",
    "logits = torch.stack(all_logits)[:NUM_IMAGES]\n",
    "feats = torch.stack(all_feats)[:NUM_IMAGES]"
   ]
  },
  {
   "cell_type": "code",
   "execution_count": 10,
   "metadata": {},
   "outputs": [
    {
     "data": {
      "text/plain": [
       "(9.926232, 0.18073939)"
      ]
     },
     "execution_count": 10,
     "metadata": {},
     "output_type": "execute_result"
    }
   ],
   "source": [
    "probs = logits.softmax(dim=1).detach().cpu().numpy()\n",
    "calculate_inception_score(probs[:50000], num_splits=10)"
   ]
  },
  {
   "cell_type": "code",
   "execution_count": 11,
   "metadata": {},
   "outputs": [
    {
     "data": {
      "text/plain": [
       "0.421438506559241"
      ]
     },
     "execution_count": 11,
     "metadata": {},
     "output_type": "execute_result"
    }
   ],
   "source": [
    "real_stats = np.load(config.env.fid_stats_path)\n",
    "mean_real = real_stats['mean']\n",
    "cov_real = real_stats['cov']\n",
    "mean_fake, cov_fake = calculate_activation_statistics(feats.numpy())\n",
    "fid = calculate_frechet_distance(mean_real, cov_real, mean_fake, cov_fake)\n",
    "fid"
   ]
  }
 ],
 "metadata": {
  "kernelspec": {
   "display_name": "Python 3",
   "language": "python",
   "name": "python3"
  },
  "language_info": {
   "codemirror_mode": {
    "name": "ipython",
    "version": 3
   },
   "file_extension": ".py",
   "mimetype": "text/x-python",
   "name": "python",
   "nbconvert_exporter": "python",
   "pygments_lexer": "ipython3",
   "version": "3.7.3"
  }
 },
 "nbformat": 4,
 "nbformat_minor": 4
}
