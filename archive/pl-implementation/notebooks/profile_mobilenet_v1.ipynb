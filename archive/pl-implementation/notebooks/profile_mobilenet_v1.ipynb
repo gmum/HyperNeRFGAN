{
 "cells": [
  {
   "cell_type": "code",
   "execution_count": 78,
   "metadata": {},
   "outputs": [],
   "source": [
    "import torch.nn as nn\n",
    "from torchsummary import summary\n",
    "\n",
    "class MobileNetV1(nn.Module):\n",
    "    def __init__(self, ch_in, n_classes):\n",
    "        super(MobileNetV1, self).__init__()\n",
    "\n",
    "        def conv_bn(inp, oup, stride):\n",
    "            return nn.Sequential(\n",
    "                nn.Conv2d(inp, oup, 3, stride, 1, bias=False),\n",
    "                nn.BatchNorm2d(oup),\n",
    "                nn.ReLU(inplace=True)\n",
    "                )\n",
    "\n",
    "        def conv_dw(inp, oup, stride):\n",
    "            return nn.Sequential(\n",
    "                # dw\n",
    "                nn.Conv2d(inp, inp, 3, stride, 1, groups=inp, bias=False),\n",
    "                nn.BatchNorm2d(inp),\n",
    "                nn.ReLU(inplace=True),\n",
    "\n",
    "                # pw\n",
    "                nn.Conv2d(inp, oup, 1, 1, 0, bias=False),\n",
    "                nn.BatchNorm2d(oup),\n",
    "                nn.ReLU(inplace=True),\n",
    "                )\n",
    "\n",
    "        self.model = nn.Sequential(\n",
    "            conv_bn(ch_in, 32, 2),\n",
    "            conv_dw(32, 64, 1),\n",
    "            conv_dw(64, 128, 2),\n",
    "            conv_dw(128, 128, 1),\n",
    "            conv_dw(128, 256, 2),\n",
    "            conv_dw(256, 256, 1),\n",
    "            conv_dw(256, 512, 2),\n",
    "            conv_dw(512, 512, 1),\n",
    "            conv_dw(512, 512, 1),\n",
    "            conv_dw(512, 512, 1),\n",
    "            conv_dw(512, 512, 1),\n",
    "            conv_dw(512, 512, 1),\n",
    "            conv_dw(512, 1024, 2),\n",
    "            conv_dw(1024, 1024, 1),\n",
    "            nn.AdaptiveAvgPool2d(1)\n",
    "        )\n",
    "        self.fc = nn.Linear(1024, n_classes)\n",
    "\n",
    "    def forward(self, x):\n",
    "        x = self.model(x)\n",
    "        x = x.view(-1, 1024)\n",
    "        x = self.fc(x)\n",
    "        return x\n",
    "\n",
    "\n",
    "class MobileNetV1_conv3x3(nn.Module):\n",
    "    def __init__(self, ch_in, n_classes):\n",
    "        super(MobileNetV1_conv3x3, self).__init__()\n",
    "\n",
    "        def conv_bn(inp, oup, stride):\n",
    "            return nn.Sequential(\n",
    "                nn.Conv2d(inp, oup, 3, stride, 1, bias=False),\n",
    "                nn.BatchNorm2d(oup),\n",
    "                nn.ReLU(inplace=True)\n",
    "                )\n",
    "\n",
    "        self.model = nn.Sequential(\n",
    "            conv_bn(ch_in, 32, 2),\n",
    "            conv_bn(32, 64, 1),\n",
    "            conv_bn(64, 128, 2),\n",
    "            conv_bn(128, 128, 1),\n",
    "            conv_bn(128, 256, 2),\n",
    "            conv_bn(256, 256, 1),\n",
    "            conv_bn(256, 512, 2),\n",
    "            conv_bn(512, 512, 1),\n",
    "            conv_bn(512, 512, 1),\n",
    "            conv_bn(512, 512, 1),\n",
    "            conv_bn(512, 512, 1),\n",
    "            conv_bn(512, 512, 1),\n",
    "            conv_bn(512, 1024, 2),\n",
    "            conv_bn(1024, 1024, 1),\n",
    "            nn.AdaptiveAvgPool2d(1)\n",
    "        )\n",
    "        self.fc = nn.Linear(1024, n_classes)\n",
    "\n",
    "    def forward(self, x):\n",
    "        x = self.model(x)\n",
    "        x = x.view(-1, 1024)\n",
    "        x = self.fc(x)\n",
    "        return x"
   ]
  },
  {
   "cell_type": "code",
   "execution_count": 83,
   "metadata": {},
   "outputs": [],
   "source": [
    "from time import time\n",
    "import numpy as np\n",
    "import torch\n",
    "\n",
    "device = 'cuda'\n",
    "# model = MobileNetV1(3, 1000).to(device)\n",
    "model = MobileNetV1_conv3x3(3, 1000).to(device)\n",
    "results_3x3 = {}\n",
    "\n",
    "for batch_size in [1, 2, 4, 8, 16]:\n",
    "    results_3x3[batch_size] = []\n",
    "    #x = torch.randn(batch_size, 3, 224, 224, device=device)\n",
    "    x = torch.randn(batch_size, 3, 512, 512, device=device)\n",
    "    \n",
    "    for i in range(15):\n",
    "        torch.cuda.synchronize()\n",
    "        start = time()\n",
    "        y = model(x).contiguous()\n",
    "        y[0][0].item()\n",
    "        torch.cuda.synchronize()\n",
    "        if i < 2: continue # Warming up\n",
    "        results_3x3[batch_size].append(time() - start)\n",
    "        \n",
    "    results_3x3[batch_size] = np.mean(results_3x3[batch_size])"
   ]
  },
  {
   "cell_type": "code",
   "execution_count": 85,
   "metadata": {},
   "outputs": [
    {
     "data": {
      "image/png": "[encoded data removed]",
      "text/plain": [
       "<Figure size 432x288 with 1 Axes>"
      ]
     },
     "metadata": {
      "needs_background": "light"
     },
     "output_type": "display_data"
    }
   ],
   "source": [
    "import matplotlib.pyplot as plt\n",
    "\n",
    "plt.plot(list(results.values()))\n",
    "plt.plot(list(results_3x3.values()))\n",
    "plt.grid()"
   ]
  },
  {
   "cell_type": "code",
   "execution_count": 86,
   "metadata": {},
   "outputs": [
    {
     "data": {
      "image/png": "[encoded data removed]",
      "text/plain": [
       "<Figure size 432x288 with 1 Axes>"
      ]
     },
     "metadata": {
      "needs_background": "light"
     },
     "output_type": "display_data"
    }
   ],
   "source": [
    "import matplotlib.pyplot as plt\n",
    "\n",
    "plt.plot([a/b for a,b in zip(results_3x3.values(), results.values())])\n",
    "plt.grid()"
   ]
  }
 ],
 "metadata": {
  "kernelspec": {
   "display_name": "Python 3",
   "language": "python",
   "name": "python3"
  },
  "language_info": {
   "codemirror_mode": {
    "name": "ipython",
    "version": 3
   },
   "file_extension": ".py",
   "mimetype": "text/x-python",
   "name": "python",
   "nbconvert_exporter": "python",
   "pygments_lexer": "ipython3",
   "version": "3.7.3"
  }
 },
 "nbformat": 4,
 "nbformat_minor": 4
}
